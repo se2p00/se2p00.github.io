{
 "cells": [
  {
   "cell_type": "code",
   "execution_count": null,
   "metadata": {},
   "outputs": [],
   "source": [
    "# 영남 원자료 파일 목록 생성\n",
    "path = 'D:/마케팅 공용/원자료/연도별원자료/영남/'\n",
    "fnameList = list(range(2017, 2023))\n",
    "tail = '영남판매현황(영업데이터분석엑셀).xlsx'\n",
    "\n"
   ]
  },
  {
   "cell_type": "code",
   "execution_count": null,
   "metadata": {},
   "outputs": [],
   "source": [
    "# 본사 원자료 파일 목록 생성\n",
    "path = 'D:/마케팅 공용/원자료/연도별원자료/본사/'\n",
    "fnameList = list(range(2006, 2023))\n",
    "tail = '본사판매현황(영업데이터분석).csv'\n"
   ]
  },
  {
   "cell_type": "code",
   "execution_count": null,
   "metadata": {},
   "outputs": [],
   "source": [
    "# 원자료 파일 목록 생성\n",
    "nlist=[]\n",
    "for fname in fnameList:\n",
    "    row = path + str(fname) + tail\n",
    "    nlist.append(row)\n",
    "nlist"
   ]
  },
  {
   "cell_type": "code",
   "execution_count": null,
   "metadata": {},
   "outputs": [],
   "source": [
    "# CSV 파일 전처리\n",
    "# 엑셀로 만든 CSV 파일 인코딩을 엑셀에서 UTF-8로 저장해도 UTF-8 이나 EUC-KR 로 인코딩할 때 에러 발생\n",
    "# CP949로 인코딩 성공\n",
    "import pandas as pd\n",
    "columns =['일자', '품목구분', '품목코드', '품목명', '규격', '수량', '단위', '단가', '공급가', '합계', '거래처코드', '거래처', '거래처그룹1', '거래처그룹2', '담당자', '개설연도', '지역구분', '인센가입', '품목그룹1', '품목그룹2', '인센품목']\n",
    "dType = {\n",
    "    '일자':str, \n",
    "    '품목구분':str, \n",
    "    '품목코드':str, \n",
    "    '품목명':str, \n",
    "    '규격':str, \n",
    "    '수량':str, \n",
    "    '단위':str, \n",
    "    '단가':str, \n",
    "    '공급가':str, \n",
    "    '합계':str, \n",
    "    '거래처코드':str, \n",
    "    '거래처':str, \n",
    "    '거래처그룹1':str, \n",
    "    '거래처그룹2':str, \n",
    "    '담당자':str, \n",
    "    '개설연도':str, \n",
    "    '지역구분':str, \n",
    "    '인센가입':str, \n",
    "    '품목그룹1':str, \n",
    "    '품목그룹2':str, \n",
    "    '인센품목':str\n",
    "}\n",
    "\n",
    "def clean_file(fileName, save=False, replace=False):\n",
    "    if replace:\n",
    "        save = True\n",
    "    [fname, ftype] = str(fileName).split('.')\n",
    "    \n",
    "    try:\n",
    "        if ftype == 'csv':\n",
    "            df = pd.read_csv(fileName, header=1, index_col=False, names=columns, skipfooter=3, engine='python', dtype=dType)\n",
    "        elif ftype == 'xlsx':\n",
    "            df = pd.read_excel(fileName, header=1, index_col=False, names=columns, skipfooter=2, dtype=dType)\n",
    "        df = check(df)\n",
    "\n",
    "        if not replace:\n",
    "            fileName = fname+'_cleaned.'+ftype\n",
    "\n",
    "        if save:\n",
    "            if ftype == 'csv':\n",
    "                df.to_csv(fileName, index=False)\n",
    "            elif ftype == 'xlsx':\n",
    "                df.to_excel(fileName, index=False)\n",
    "        return df\n",
    "\n",
    "    except UnicodeDecodeError:\n",
    "        print('Error')\n",
    "        df = pd.read_csv(fileName, encoding='CP949')\n",
    "        df = check(df)\n",
    "        return df\n",
    "\n",
    "    except Exception as ex:\n",
    "        print('%s' % (ex))\n",
    "\n",
    "\n",
    "def check(df):\n",
    "    colList = list(df.columns)\n",
    "    for col in colList:\n",
    "        if \"Unnamed:\" in col:  # 이름이 없는 칼럼 삭제\n",
    "            df = df.drop(col, axis=1)\n",
    "            colList = list(df.columns)\n",
    "    newcolList = []\n",
    "    for col in colList:\n",
    "        if \"\\t\" in col:\n",
    "            new = str(col).replace('\\t', '')\n",
    "        else:\n",
    "            new = col\n",
    "        newcolList.append(new)\n",
    "    df.columns = newcolList\n",
    "    df.replace('\\t', '', regex=True, inplace=True)\n",
    "    return df\n",
    "\n"
   ]
  },
  {
   "cell_type": "code",
   "execution_count": null,
   "metadata": {},
   "outputs": [],
   "source": [
    "dfList=[]\n",
    "for f in nlist:\n",
    "    df = clean_file(f)\n",
    "    dfList.append(df)\n",
    "ndf = pd.concat(dfList)\n",
    "ndf.to_csv('test.csv', index=False, encoding='utf-8-sig')\n",
    "ndf"
   ]
  },
  {
   "cell_type": "code",
   "execution_count": null,
   "metadata": {},
   "outputs": [],
   "source": [
    "path='D:/마케팅 공용/원자료/CSV/'\n",
    "fNameList=['2006-2022본사판매현황(영업데이터분석).csv', '2017-2022영남판매현황(영업데이터분석).csv']\n",
    "fullList = [path+fNameList[0], path+fNameList[1]]\n",
    "dflist=[]\n",
    "for f in fullList:\n",
    "    df = pd.read_csv(f, header=0, dtype=dType, index_col=False)\n",
    "    dflist.append(df)\n",
    "ndf=pd.concat(dflist)\n",
    "ndf.to_csv('test.csv', index=False, encoding='utf-8-sig')"
   ]
  },
  {
   "cell_type": "code",
   "execution_count": null,
   "metadata": {},
   "outputs": [],
   "source": [
    "ndf.to_csv('test.csv', encoding='utf-8-sig', index=False)"
   ]
  },
  {
   "cell_type": "code",
   "execution_count": 120,
   "metadata": {},
   "outputs": [
    {
     "name": "stderr",
     "output_type": "stream",
     "text": [
      "[NbConvertApp] Converting notebook csv_cleaning2.ipynb to html\n",
      "[NbConvertApp] Writing 630874 bytes to csv_cleaning2.html\n"
     ]
    }
   ],
   "source": [
    "!jupyter nbconvert --to html csv_cleaning2.ipynb"
   ]
  }
 ],
 "metadata": {
  "kernelspec": {
   "display_name": "Python 3",
   "language": "python",
   "name": "python3"
  },
  "language_info": {
   "codemirror_mode": {
    "name": "ipython",
    "version": 3
   },
   "file_extension": ".py",
   "mimetype": "text/x-python",
   "name": "python",
   "nbconvert_exporter": "python",
   "pygments_lexer": "ipython3",
   "version": "3.11.4"
  },
  "orig_nbformat": 4
 },
 "nbformat": 4,
 "nbformat_minor": 2
}
