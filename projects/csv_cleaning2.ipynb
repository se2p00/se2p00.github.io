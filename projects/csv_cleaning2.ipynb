{
 "cells": [
  {
   "cell_type": "code",
   "execution_count": null,
   "metadata": {},
   "outputs": [],
   "source": [
    "# CSV 파일 전처리\n",
    "# 엑셀로 만든 CSV 파일 인코딩을 엑셀에서 UTF-8로 저장해도 UTF-8 이나 EUC-KR 로 인코딩할 때 에러 발생\n",
    "# CP949로 인코딩 성공\n",
    "\n",
    "def clean_file(fileName, save=False, replace=False):\n",
    "    if replace:\n",
    "        save = True\n",
    "    [fname, ftype] = str(fileName).split('.')\n",
    "    import pandas as pd\n",
    "    try:\n",
    "        if ftype == 'csv':\n",
    "            df = pd.read_csv(fileName)\n",
    "        elif ftype == 'xlsx':\n",
    "            df = pd.read_excel(fileName)\n",
    "        df = col_check(df)\n",
    "\n",
    "        if not replace:\n",
    "            fileName = fname+'_cleaned.'+ftype\n",
    "\n",
    "        if save:\n",
    "            if ftype == 'csv':\n",
    "                df.to_csv(fileName, index=False)\n",
    "            elif ftype == 'xlsx':\n",
    "                df.to_excel(fileName, index=False)\n",
    "        return df\n",
    "\n",
    "    except UnicodeDecodeError:\n",
    "        df = pd.read_csv(fileName, encoding='CP949')\n",
    "        df = col_check(df)\n",
    "        return df\n",
    "\n",
    "    except Exception as ex:\n",
    "        print('%s' % (ex))\n",
    "\n",
    "\n",
    "def col_check(df):\n",
    "    colList = list(df.columns)\n",
    "    for col in colList:\n",
    "        if \"Unnamed:\" in col:  # 이름이 없는 칼럼 삭제\n",
    "            df = df.drop(col, axis=1)\n",
    "            colList = list(df.columns)\n",
    "    newcolList = []\n",
    "    for col in colList:\n",
    "        if \"\\t\" in col:\n",
    "            new = str(col).replace('\\t', '')\n",
    "        else:\n",
    "            new = col\n",
    "        newcolList.append(new)\n",
    "    df.columns = newcolList\n",
    "    return df\n",
    "\n",
    "\n",
    "fileName = '2006_2022.csv'\n",
    "df = clean_file(fileName)\n",
    "df"
   ]
  },
  {
   "cell_type": "code",
   "execution_count": 1,
   "metadata": {},
   "outputs": [
    {
     "name": "stderr",
     "output_type": "stream",
     "text": [
      "[NbConvertApp] Converting notebook csv_cleaning.ipynb to html\n",
      "[NbConvertApp] Writing 626502 bytes to csv_cleaning.html\n"
     ]
    }
   ],
   "source": [
    "!jupyter nbconvert --to html csv_cleaning.ipynb"
   ]
  }
 ],
 "metadata": {
  "kernelspec": {
   "display_name": "Python 3",
   "language": "python",
   "name": "python3"
  },
  "language_info": {
   "codemirror_mode": {
    "name": "ipython",
    "version": 3
   },
   "file_extension": ".py",
   "mimetype": "text/x-python",
   "name": "python",
   "nbconvert_exporter": "python",
   "pygments_lexer": "ipython3",
   "version": "3.11.3"
  },
  "orig_nbformat": 4
 },
 "nbformat": 4,
 "nbformat_minor": 2
}
